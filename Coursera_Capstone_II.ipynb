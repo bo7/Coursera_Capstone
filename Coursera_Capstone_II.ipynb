{
  "nbformat": 4,
  "nbformat_minor": 0,
  "metadata": {
    "colab": {
      "name": "Coursera_Capstone_II.ipynb",
      "provenance": [],
      "include_colab_link": true
    },
    "kernelspec": {
      "name": "python3",
      "display_name": "Python 3"
    }
  },
  "cells": [
    {
      "cell_type": "markdown",
      "metadata": {
        "id": "view-in-github",
        "colab_type": "text"
      },
      "source": [
        "<a href=\"https://colab.research.google.com/github/bo7/Coursera_Capstone/blob/master/Coursera_Capstone_II.ipynb\" target=\"_parent\"><img src=\"https://colab.research.google.com/assets/colab-badge.svg\" alt=\"Open In Colab\"/></a>"
      ]
    },
    {
      "cell_type": "markdown",
      "metadata": {
        "id": "0nPhBOyUaZ1H",
        "colab_type": "text"
      },
      "source": [
        "<h3>Add libraries</h3>\n",
        "\n"
      ]
    },
    {
      "cell_type": "code",
      "metadata": {
        "id": "AhRcLkpQaXm4",
        "colab_type": "code",
        "colab": {}
      },
      "source": [
        "import pandas as pd\n",
        "import requests\n",
        "from bs4 import BeautifulSoup\n"
      ],
      "execution_count": 0,
      "outputs": []
    },
    {
      "cell_type": "markdown",
      "metadata": {
        "id": "JpTkOosLaqtC",
        "colab_type": "text"
      },
      "source": [
        "<h3>Read table from Wikipedia in pandas data frame</h3>"
      ]
    },
    {
      "cell_type": "code",
      "metadata": {
        "id": "eUSAqxbtbI0U",
        "colab_type": "code",
        "colab": {}
      },
      "source": [
        "url = \"https://en.wikipedia.org/wiki/List_of_postal_codes_of_Canada:_M\"\n",
        "res = requests.get(url)\n",
        "soup = BeautifulSoup(res.content,'lxml')\n",
        "table = soup.find_all('table')[0] \n",
        "df = pd.read_html(str(table))[0]"
      ],
      "execution_count": 0,
      "outputs": []
    },
    {
      "cell_type": "markdown",
      "metadata": {
        "id": "UttLdV4xc8de",
        "colab_type": "text"
      },
      "source": [
        "<h3>Clean and amend data frame</h3>\n",
        "<ol>\n",
        "  <li>remove not assigned boroughs</li>\n",
        "  <li>join postcodes with multiple boroughs in one comma seperated row</li>\n",
        "  <li>copy not assigned neighbourhoods to borough</li>\n",
        "</ol>"
      ]
    },
    {
      "cell_type": "code",
      "metadata": {
        "id": "VsoxmsS1eYqZ",
        "colab_type": "code",
        "colab": {}
      },
      "source": [
        "# Clean Not assigned Boroughs  \n",
        "df = df[~df['Borough'].isin(['Not assigned'])]\n",
        "# Join grouped Boroughs to one comma seperated line\n",
        "df =df.groupby(['Postcode','Borough'],as_index=False, sort=False).agg(','.join)\n",
        "# Boroughs with no neighbourhood get the borough itself as neighbourhood\n",
        "df.Neighbourhood = df.Borough.where(df.Neighbourhood == 'Not assigned', df.Neighbourhood)"
      ],
      "execution_count": 0,
      "outputs": []
    },
    {
      "cell_type": "markdown",
      "metadata": {
        "id": "TgefwaS9hJrz",
        "colab_type": "text"
      },
      "source": [
        "<h3>Print head of data frame and shape</h3>"
      ]
    },
    {
      "cell_type": "code",
      "metadata": {
        "id": "Mlw9ohwxhXEf",
        "colab_type": "code",
        "colab": {
          "base_uri": "https://localhost:8080/",
          "height": 136
        },
        "outputId": "8cffe4bc-2b3e-41e7-d5ef-6b8b0af7aa01"
      },
      "source": [
        "print(df.head())\n",
        "print(df.shape)"
      ],
      "execution_count": 7,
      "outputs": [
        {
          "output_type": "stream",
          "text": [
            "  Postcode           Borough                    Neighbourhood\n",
            "0      M3A        North York                        Parkwoods\n",
            "1      M4A        North York                 Victoria Village\n",
            "2      M5A  Downtown Toronto         Harbourfront,Regent Park\n",
            "3      M6A        North York  Lawrence Heights,Lawrence Manor\n",
            "4      M7A      Queen's Park                     Queen's Park\n",
            "(103, 3)\n"
          ],
          "name": "stdout"
        }
      ]
    },
    {
      "cell_type": "code",
      "metadata": {
        "id": "RuSEb0NjhuLX",
        "colab_type": "code",
        "colab": {}
      },
      "source": [
        "''"
      ],
      "execution_count": 0,
      "outputs": []
    }
  ]
}