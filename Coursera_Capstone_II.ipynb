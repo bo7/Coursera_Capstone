{
  "nbformat": 4,
  "nbformat_minor": 0,
  "metadata": {
    "colab": {
      "name": "Coursera_Capstone_II.ipynb",
      "provenance": [],
      "include_colab_link": true
    },
    "kernelspec": {
      "name": "python3",
      "display_name": "Python 3"
    }
  },
  "cells": [
    {
      "cell_type": "markdown",
      "metadata": {
        "id": "view-in-github",
        "colab_type": "text"
      },
      "source": [
        "<a href=\"https://colab.research.google.com/github/bo7/Coursera_Capstone/blob/master/Coursera_Capstone_II.ipynb\" target=\"_parent\"><img src=\"https://colab.research.google.com/assets/colab-badge.svg\" alt=\"Open In Colab\"/></a>"
      ]
    },
    {
      "cell_type": "markdown",
      "metadata": {
        "id": "0nPhBOyUaZ1H",
        "colab_type": "text"
      },
      "source": [
        "<h3>Add libraries</h3>\n",
        "\n"
      ]
    },
    {
      "cell_type": "code",
      "metadata": {
        "id": "AhRcLkpQaXm4",
        "colab_type": "code",
        "colab": {}
      },
      "source": [
        "import pandas as pd\n",
        "import requests\n",
        "import io\n",
        "from bs4 import BeautifulSoup\n"
      ],
      "execution_count": 0,
      "outputs": []
    },
    {
      "cell_type": "markdown",
      "metadata": {
        "id": "JpTkOosLaqtC",
        "colab_type": "text"
      },
      "source": [
        "<h3>Read table from Wikipedia in pandas data frame</h3>"
      ]
    },
    {
      "cell_type": "code",
      "metadata": {
        "id": "eUSAqxbtbI0U",
        "colab_type": "code",
        "colab": {}
      },
      "source": [
        "url = \"https://en.wikipedia.org/wiki/List_of_postal_codes_of_Canada:_M\"\n",
        "res = requests.get(url)\n",
        "soup = BeautifulSoup(res.content,'lxml')\n",
        "table = soup.find_all('table')[0] \n",
        "df = pd.read_html(str(table))[0]"
      ],
      "execution_count": 0,
      "outputs": []
    },
    {
      "cell_type": "markdown",
      "metadata": {
        "id": "UttLdV4xc8de",
        "colab_type": "text"
      },
      "source": [
        "<h3>Clean and amend data frame</h3>\n",
        "<ol>\n",
        "  <li>remove not assigned boroughs</li>\n",
        "  <li>join postcodes with multiple boroughs in one comma seperated row</li>\n",
        "  <li>copy not assigned neighbourhoods to borough</li>\n",
        "</ol>"
      ]
    },
    {
      "cell_type": "code",
      "metadata": {
        "id": "VsoxmsS1eYqZ",
        "colab_type": "code",
        "colab": {}
      },
      "source": [
        "# Clean Not assigned Boroughs  \n",
        "df = df[~df['Borough'].isin(['Not assigned'])]\n",
        "# Join grouped Boroughs to one comma seperated line\n",
        "df =df.groupby(['Postcode','Borough'],as_index=False, sort=False).agg(','.join)\n",
        "# Boroughs with no neighbourhood get the borough itself as neighbourhood\n",
        "df.Neighbourhood = df.Borough.where(df.Neighbourhood == 'Not assigned', df.Neighbourhood)"
      ],
      "execution_count": 0,
      "outputs": []
    },
    {
      "cell_type": "markdown",
      "metadata": {
        "id": "TgefwaS9hJrz",
        "colab_type": "text"
      },
      "source": [
        "<h3>Print head of data frame and shape</h3>"
      ]
    },
    {
      "cell_type": "code",
      "metadata": {
        "id": "Mlw9ohwxhXEf",
        "colab_type": "code",
        "colab": {
          "base_uri": "https://localhost:8080/",
          "height": 136
        },
        "outputId": "8cffe4bc-2b3e-41e7-d5ef-6b8b0af7aa01"
      },
      "source": [
        "print(df.head())\n",
        "print(df.shape)"
      ],
      "execution_count": 7,
      "outputs": [
        {
          "output_type": "stream",
          "text": [
            "  Postcode           Borough                    Neighbourhood\n",
            "0      M3A        North York                        Parkwoods\n",
            "1      M4A        North York                 Victoria Village\n",
            "2      M5A  Downtown Toronto         Harbourfront,Regent Park\n",
            "3      M6A        North York  Lawrence Heights,Lawrence Manor\n",
            "4      M7A      Queen's Park                     Queen's Park\n",
            "(103, 3)\n"
          ],
          "name": "stdout"
        }
      ]
    },
    {
      "cell_type": "markdown",
      "metadata": {
        "id": "3jG6ZoXLpUqG",
        "colab_type": "text"
      },
      "source": [
        "<h3>Load Geospatial data to df</h3>"
      ]
    },
    {
      "cell_type": "code",
      "metadata": {
        "id": "F3lX1RVwpdeN",
        "colab_type": "code",
        "colab": {}
      },
      "source": [
        "url=\"http://cocl.us/Geospatial_data\"\n",
        "s=requests.get(url).content\n",
        "df2=pd.read_csv(io.StringIO(s.decode('utf-8')))"
      ],
      "execution_count": 0,
      "outputs": []
    },
    {
      "cell_type": "markdown",
      "metadata": {
        "id": "CwH6HTd937gd",
        "colab_type": "text"
      },
      "source": [
        "<h3>Inner Join of data frames on Postcode</h3>"
      ]
    },
    {
      "cell_type": "code",
      "metadata": {
        "id": "2kz9rKzIpe8B",
        "colab_type": "code",
        "colab": {}
      },
      "source": [
        "df2.rename(columns={'Postal Code': 'Postcode'}, inplace=True)\n",
        "df =pd.merge(df, df2, on='Postcode', how='inner')\n"
      ],
      "execution_count": 0,
      "outputs": []
    },
    {
      "cell_type": "markdown",
      "metadata": {
        "id": "YMfTESWD5EOb",
        "colab_type": "text"
      },
      "source": [
        "<h3>Check head and shape</h3>"
      ]
    },
    {
      "cell_type": "code",
      "metadata": {
        "id": "99tsHuPS1RE3",
        "colab_type": "code",
        "colab": {
          "base_uri": "https://localhost:8080/",
          "height": 170
        },
        "outputId": "261895ea-b1f9-4d43-d5c6-4310dbb7f8c1"
      },
      "source": [
        "print(df.head())\n",
        "df.shape"
      ],
      "execution_count": 30,
      "outputs": [
        {
          "output_type": "stream",
          "text": [
            "  Postcode           Borough  ...   Latitude  Longitude\n",
            "0      M3A        North York  ...  43.753259 -79.329656\n",
            "1      M4A        North York  ...  43.725882 -79.315572\n",
            "2      M5A  Downtown Toronto  ...  43.654260 -79.360636\n",
            "3      M6A        North York  ...  43.718518 -79.464763\n",
            "4      M7A      Queen's Park  ...  43.662301 -79.389494\n",
            "\n",
            "[5 rows x 5 columns]\n"
          ],
          "name": "stdout"
        },
        {
          "output_type": "execute_result",
          "data": {
            "text/plain": [
              "(103, 5)"
            ]
          },
          "metadata": {
            "tags": []
          },
          "execution_count": 30
        }
      ]
    },
    {
      "cell_type": "code",
      "metadata": {
        "id": "uoOF2c0J2p2O",
        "colab_type": "code",
        "colab": {}
      },
      "source": [
        ""
      ],
      "execution_count": 0,
      "outputs": []
    }
  ]
}